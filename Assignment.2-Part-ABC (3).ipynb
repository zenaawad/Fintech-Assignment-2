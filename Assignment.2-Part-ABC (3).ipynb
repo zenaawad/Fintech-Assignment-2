{
 "cells": [
  {
   "cell_type": "markdown",
   "metadata": {},
   "source": [
    "# Part A"
   ]
  },
  {
   "cell_type": "markdown",
   "metadata": {},
   "source": [
    "The altcoin that we have chosen is called Ethereum. Ethereum was launched in August 2015 so it is faily new to the game. Similar to other blockchains, Ethereum has a native cryptocurrency called Ether(ETH), however what makes it different is that it is programmable and can be used to build new kinds of applications. Ehtereum started trading at $2.83 at its release date. Since this week's lecture was on Ethereum, we were interested in diving deeper into this subject. We wanted to find out more about Ethereum's features, price changes, volatility and compare it to bitcoin. "
   ]
  },
  {
   "cell_type": "markdown",
   "metadata": {},
   "source": [
    "# Part B"
   ]
  },
  {
   "cell_type": "code",
   "execution_count": 1,
   "metadata": {},
   "outputs": [],
   "source": [
    "import pandas as pd"
   ]
  },
  {
   "cell_type": "code",
   "execution_count": 2,
   "metadata": {},
   "outputs": [],
   "source": [
    "eth_price = pd.read_csv(\"eth-usd-max.csv\")"
   ]
  },
  {
   "cell_type": "code",
   "execution_count": 3,
   "metadata": {},
   "outputs": [
    {
     "data": {
      "text/html": [
       "<div>\n",
       "<style scoped>\n",
       "    .dataframe tbody tr th:only-of-type {\n",
       "        vertical-align: middle;\n",
       "    }\n",
       "\n",
       "    .dataframe tbody tr th {\n",
       "        vertical-align: top;\n",
       "    }\n",
       "\n",
       "    .dataframe thead th {\n",
       "        text-align: right;\n",
       "    }\n",
       "</style>\n",
       "<table border=\"1\" class=\"dataframe\">\n",
       "  <thead>\n",
       "    <tr style=\"text-align: right;\">\n",
       "      <th></th>\n",
       "      <th>price</th>\n",
       "      <th>market_cap</th>\n",
       "      <th>total_volume</th>\n",
       "    </tr>\n",
       "    <tr>\n",
       "      <th>snapped_at</th>\n",
       "      <th></th>\n",
       "      <th></th>\n",
       "      <th></th>\n",
       "    </tr>\n",
       "  </thead>\n",
       "  <tbody>\n",
       "    <tr>\n",
       "      <td>2015-08-07 00:00:00+00:00</td>\n",
       "      <td>2.831620</td>\n",
       "      <td>0.000000e+00</td>\n",
       "      <td>9.062200e+04</td>\n",
       "    </tr>\n",
       "    <tr>\n",
       "      <td>2015-08-08 00:00:00+00:00</td>\n",
       "      <td>1.330750</td>\n",
       "      <td>8.033948e+07</td>\n",
       "      <td>3.680700e+05</td>\n",
       "    </tr>\n",
       "    <tr>\n",
       "      <td>2015-08-10 00:00:00+00:00</td>\n",
       "      <td>0.687586</td>\n",
       "      <td>4.155631e+07</td>\n",
       "      <td>4.004641e+05</td>\n",
       "    </tr>\n",
       "    <tr>\n",
       "      <td>2015-08-11 00:00:00+00:00</td>\n",
       "      <td>1.067379</td>\n",
       "      <td>6.453901e+07</td>\n",
       "      <td>1.518998e+06</td>\n",
       "    </tr>\n",
       "    <tr>\n",
       "      <td>2015-08-12 00:00:00+00:00</td>\n",
       "      <td>1.256613</td>\n",
       "      <td>7.601326e+07</td>\n",
       "      <td>2.073893e+06</td>\n",
       "    </tr>\n",
       "    <tr>\n",
       "      <td>...</td>\n",
       "      <td>...</td>\n",
       "      <td>...</td>\n",
       "      <td>...</td>\n",
       "    </tr>\n",
       "    <tr>\n",
       "      <td>2020-04-26 00:00:00+00:00</td>\n",
       "      <td>194.114237</td>\n",
       "      <td>2.144993e+10</td>\n",
       "      <td>1.445258e+10</td>\n",
       "    </tr>\n",
       "    <tr>\n",
       "      <td>2020-04-27 00:00:00+00:00</td>\n",
       "      <td>197.229904</td>\n",
       "      <td>2.179834e+10</td>\n",
       "      <td>1.353076e+10</td>\n",
       "    </tr>\n",
       "    <tr>\n",
       "      <td>2020-04-28 00:00:00+00:00</td>\n",
       "      <td>196.462625</td>\n",
       "      <td>2.171512e+10</td>\n",
       "      <td>1.765971e+10</td>\n",
       "    </tr>\n",
       "    <tr>\n",
       "      <td>2020-04-29 00:00:00+00:00</td>\n",
       "      <td>197.154732</td>\n",
       "      <td>2.182482e+10</td>\n",
       "      <td>1.464438e+10</td>\n",
       "    </tr>\n",
       "    <tr>\n",
       "      <td>2020-04-30 00:00:00+00:00</td>\n",
       "      <td>215.548173</td>\n",
       "      <td>2.379659e+10</td>\n",
       "      <td>2.096689e+10</td>\n",
       "    </tr>\n",
       "  </tbody>\n",
       "</table>\n",
       "<p>1728 rows × 3 columns</p>\n",
       "</div>"
      ],
      "text/plain": [
       "                                price    market_cap  total_volume\n",
       "snapped_at                                                       \n",
       "2015-08-07 00:00:00+00:00    2.831620  0.000000e+00  9.062200e+04\n",
       "2015-08-08 00:00:00+00:00    1.330750  8.033948e+07  3.680700e+05\n",
       "2015-08-10 00:00:00+00:00    0.687586  4.155631e+07  4.004641e+05\n",
       "2015-08-11 00:00:00+00:00    1.067379  6.453901e+07  1.518998e+06\n",
       "2015-08-12 00:00:00+00:00    1.256613  7.601326e+07  2.073893e+06\n",
       "...                               ...           ...           ...\n",
       "2020-04-26 00:00:00+00:00  194.114237  2.144993e+10  1.445258e+10\n",
       "2020-04-27 00:00:00+00:00  197.229904  2.179834e+10  1.353076e+10\n",
       "2020-04-28 00:00:00+00:00  196.462625  2.171512e+10  1.765971e+10\n",
       "2020-04-29 00:00:00+00:00  197.154732  2.182482e+10  1.464438e+10\n",
       "2020-04-30 00:00:00+00:00  215.548173  2.379659e+10  2.096689e+10\n",
       "\n",
       "[1728 rows x 3 columns]"
      ]
     },
     "execution_count": 3,
     "metadata": {},
     "output_type": "execute_result"
    }
   ],
   "source": [
    "eth_price['snapped_at'] = pd.to_datetime(eth_price['snapped_at'])\n",
    "eth_price = eth_price.set_index('snapped_at')\n",
    "eth_price"
   ]
  },
  {
   "cell_type": "code",
   "execution_count": 4,
   "metadata": {},
   "outputs": [
    {
     "data": {
      "text/html": [
       "<div>\n",
       "<style scoped>\n",
       "    .dataframe tbody tr th:only-of-type {\n",
       "        vertical-align: middle;\n",
       "    }\n",
       "\n",
       "    .dataframe tbody tr th {\n",
       "        vertical-align: top;\n",
       "    }\n",
       "\n",
       "    .dataframe thead th {\n",
       "        text-align: right;\n",
       "    }\n",
       "</style>\n",
       "<table border=\"1\" class=\"dataframe\">\n",
       "  <thead>\n",
       "    <tr style=\"text-align: right;\">\n",
       "      <th></th>\n",
       "      <th>price</th>\n",
       "    </tr>\n",
       "    <tr>\n",
       "      <th>snapped_at</th>\n",
       "      <th></th>\n",
       "    </tr>\n",
       "  </thead>\n",
       "  <tbody>\n",
       "    <tr>\n",
       "      <td>2015-08-07 00:00:00+00:00</td>\n",
       "      <td>2.831620</td>\n",
       "    </tr>\n",
       "    <tr>\n",
       "      <td>2015-08-08 00:00:00+00:00</td>\n",
       "      <td>1.330750</td>\n",
       "    </tr>\n",
       "    <tr>\n",
       "      <td>2015-08-10 00:00:00+00:00</td>\n",
       "      <td>0.687586</td>\n",
       "    </tr>\n",
       "    <tr>\n",
       "      <td>2015-08-11 00:00:00+00:00</td>\n",
       "      <td>1.067379</td>\n",
       "    </tr>\n",
       "    <tr>\n",
       "      <td>2015-08-12 00:00:00+00:00</td>\n",
       "      <td>1.256613</td>\n",
       "    </tr>\n",
       "    <tr>\n",
       "      <td>...</td>\n",
       "      <td>...</td>\n",
       "    </tr>\n",
       "    <tr>\n",
       "      <td>2020-04-26 00:00:00+00:00</td>\n",
       "      <td>194.114237</td>\n",
       "    </tr>\n",
       "    <tr>\n",
       "      <td>2020-04-27 00:00:00+00:00</td>\n",
       "      <td>197.229904</td>\n",
       "    </tr>\n",
       "    <tr>\n",
       "      <td>2020-04-28 00:00:00+00:00</td>\n",
       "      <td>196.462625</td>\n",
       "    </tr>\n",
       "    <tr>\n",
       "      <td>2020-04-29 00:00:00+00:00</td>\n",
       "      <td>197.154732</td>\n",
       "    </tr>\n",
       "    <tr>\n",
       "      <td>2020-04-30 00:00:00+00:00</td>\n",
       "      <td>215.548173</td>\n",
       "    </tr>\n",
       "  </tbody>\n",
       "</table>\n",
       "<p>1728 rows × 1 columns</p>\n",
       "</div>"
      ],
      "text/plain": [
       "                                price\n",
       "snapped_at                           \n",
       "2015-08-07 00:00:00+00:00    2.831620\n",
       "2015-08-08 00:00:00+00:00    1.330750\n",
       "2015-08-10 00:00:00+00:00    0.687586\n",
       "2015-08-11 00:00:00+00:00    1.067379\n",
       "2015-08-12 00:00:00+00:00    1.256613\n",
       "...                               ...\n",
       "2020-04-26 00:00:00+00:00  194.114237\n",
       "2020-04-27 00:00:00+00:00  197.229904\n",
       "2020-04-28 00:00:00+00:00  196.462625\n",
       "2020-04-29 00:00:00+00:00  197.154732\n",
       "2020-04-30 00:00:00+00:00  215.548173\n",
       "\n",
       "[1728 rows x 1 columns]"
      ]
     },
     "execution_count": 4,
     "metadata": {},
     "output_type": "execute_result"
    }
   ],
   "source": [
    "eth_price = eth_price[[\"price\"]]\n",
    "eth_price"
   ]
  },
  {
   "cell_type": "code",
   "execution_count": 5,
   "metadata": {},
   "outputs": [
    {
     "data": {
      "text/plain": [
       "<matplotlib.axes._subplots.AxesSubplot at 0x25150045208>"
      ]
     },
     "execution_count": 5,
     "metadata": {},
     "output_type": "execute_result"
    }
   ],
   "source": [
    "eth_price.plot(figsize = (20,10))"
   ]
  },
  {
   "cell_type": "code",
   "execution_count": 6,
   "metadata": {},
   "outputs": [
    {
     "data": {
      "text/html": [
       "<div>\n",
       "<style scoped>\n",
       "    .dataframe tbody tr th:only-of-type {\n",
       "        vertical-align: middle;\n",
       "    }\n",
       "\n",
       "    .dataframe tbody tr th {\n",
       "        vertical-align: top;\n",
       "    }\n",
       "\n",
       "    .dataframe thead th {\n",
       "        text-align: right;\n",
       "    }\n",
       "</style>\n",
       "<table border=\"1\" class=\"dataframe\">\n",
       "  <thead>\n",
       "    <tr style=\"text-align: right;\">\n",
       "      <th></th>\n",
       "      <th>pct_change</th>\n",
       "    </tr>\n",
       "    <tr>\n",
       "      <th>snapped_at</th>\n",
       "      <th></th>\n",
       "    </tr>\n",
       "  </thead>\n",
       "  <tbody>\n",
       "    <tr>\n",
       "      <td>2015-08-07 00:00:00+00:00</td>\n",
       "      <td>NaN</td>\n",
       "    </tr>\n",
       "    <tr>\n",
       "      <td>2015-08-08 00:00:00+00:00</td>\n",
       "      <td>-53.003934</td>\n",
       "    </tr>\n",
       "    <tr>\n",
       "      <td>2015-08-10 00:00:00+00:00</td>\n",
       "      <td>-48.330963</td>\n",
       "    </tr>\n",
       "    <tr>\n",
       "      <td>2015-08-11 00:00:00+00:00</td>\n",
       "      <td>55.235757</td>\n",
       "    </tr>\n",
       "    <tr>\n",
       "      <td>2015-08-12 00:00:00+00:00</td>\n",
       "      <td>17.728878</td>\n",
       "    </tr>\n",
       "    <tr>\n",
       "      <td>...</td>\n",
       "      <td>...</td>\n",
       "    </tr>\n",
       "    <tr>\n",
       "      <td>2020-04-26 00:00:00+00:00</td>\n",
       "      <td>3.614149</td>\n",
       "    </tr>\n",
       "    <tr>\n",
       "      <td>2020-04-27 00:00:00+00:00</td>\n",
       "      <td>1.605069</td>\n",
       "    </tr>\n",
       "    <tr>\n",
       "      <td>2020-04-28 00:00:00+00:00</td>\n",
       "      <td>-0.389028</td>\n",
       "    </tr>\n",
       "    <tr>\n",
       "      <td>2020-04-29 00:00:00+00:00</td>\n",
       "      <td>0.352284</td>\n",
       "    </tr>\n",
       "    <tr>\n",
       "      <td>2020-04-30 00:00:00+00:00</td>\n",
       "      <td>9.329444</td>\n",
       "    </tr>\n",
       "  </tbody>\n",
       "</table>\n",
       "<p>1728 rows × 1 columns</p>\n",
       "</div>"
      ],
      "text/plain": [
       "                           pct_change\n",
       "snapped_at                           \n",
       "2015-08-07 00:00:00+00:00         NaN\n",
       "2015-08-08 00:00:00+00:00  -53.003934\n",
       "2015-08-10 00:00:00+00:00  -48.330963\n",
       "2015-08-11 00:00:00+00:00   55.235757\n",
       "2015-08-12 00:00:00+00:00   17.728878\n",
       "...                               ...\n",
       "2020-04-26 00:00:00+00:00    3.614149\n",
       "2020-04-27 00:00:00+00:00    1.605069\n",
       "2020-04-28 00:00:00+00:00   -0.389028\n",
       "2020-04-29 00:00:00+00:00    0.352284\n",
       "2020-04-30 00:00:00+00:00    9.329444\n",
       "\n",
       "[1728 rows x 1 columns]"
      ]
     },
     "execution_count": 6,
     "metadata": {},
     "output_type": "execute_result"
    }
   ],
   "source": [
    "ethdaily_returns = eth_price.pct_change()*100\n",
    "ethdaily_returns.columns = ['pct_change']\n",
    "ethdaily_returns"
   ]
  },
  {
   "cell_type": "code",
   "execution_count": 7,
   "metadata": {
    "scrolled": true
   },
   "outputs": [
    {
     "data": {
      "text/plain": [
       "<matplotlib.axes._subplots.AxesSubplot at 0x25150bab508>"
      ]
     },
     "execution_count": 7,
     "metadata": {},
     "output_type": "execute_result"
    },
    {
     "data": {
      "image/png": "[encoded data removed]",
      "text/plain": [
       "<Figure size 1440x720 with 1 Axes>"
      ]
     },
     "metadata": {
      "needs_background": "light"
     },
     "output_type": "display_data"
    }
   ],
   "source": [
    "ethdaily_returns.plot(figsize=(20,10))"
   ]
  },
  {
   "cell_type": "markdown",
   "metadata": {},
   "source": [
    "Based on Ethereum's daily return, we can see a dynamic change in the figure above. We can observe a high volatility during the mid 2015 till mid 2016 which is when Ehtereum first started operating. We can also see a substantial negative return recently during the covide-19 pandemic. Overall,Ethereum similar to bitcoin, is very volatile and risky to invest in. "
   ]
  },
  {
   "cell_type": "markdown",
   "metadata": {},
   "source": [
    "# Part C"
   ]
  },
  {
   "cell_type": "code",
   "execution_count": 8,
   "metadata": {
    "scrolled": true
   },
   "outputs": [
    {
     "data": {
      "text/html": [
       "<div>\n",
       "<style scoped>\n",
       "    .dataframe tbody tr th:only-of-type {\n",
       "        vertical-align: middle;\n",
       "    }\n",
       "\n",
       "    .dataframe tbody tr th {\n",
       "        vertical-align: top;\n",
       "    }\n",
       "\n",
       "    .dataframe thead th {\n",
       "        text-align: right;\n",
       "    }\n",
       "</style>\n",
       "<table border=\"1\" class=\"dataframe\">\n",
       "  <thead>\n",
       "    <tr style=\"text-align: right;\">\n",
       "      <th></th>\n",
       "      <th>pct_change</th>\n",
       "    </tr>\n",
       "  </thead>\n",
       "  <tbody>\n",
       "    <tr>\n",
       "      <td>count</td>\n",
       "      <td>1727.000000</td>\n",
       "    </tr>\n",
       "    <tr>\n",
       "      <td>mean</td>\n",
       "      <td>0.482230</td>\n",
       "    </tr>\n",
       "    <tr>\n",
       "      <td>std</td>\n",
       "      <td>6.744177</td>\n",
       "    </tr>\n",
       "    <tr>\n",
       "      <td>min</td>\n",
       "      <td>-53.003934</td>\n",
       "    </tr>\n",
       "    <tr>\n",
       "      <td>25%</td>\n",
       "      <td>-2.364104</td>\n",
       "    </tr>\n",
       "    <tr>\n",
       "      <td>50%</td>\n",
       "      <td>-0.029624</td>\n",
       "    </tr>\n",
       "    <tr>\n",
       "      <td>75%</td>\n",
       "      <td>2.994275</td>\n",
       "    </tr>\n",
       "    <tr>\n",
       "      <td>max</td>\n",
       "      <td>55.235757</td>\n",
       "    </tr>\n",
       "  </tbody>\n",
       "</table>\n",
       "</div>"
      ],
      "text/plain": [
       "        pct_change\n",
       "count  1727.000000\n",
       "mean      0.482230\n",
       "std       6.744177\n",
       "min     -53.003934\n",
       "25%      -2.364104\n",
       "50%      -0.029624\n",
       "75%       2.994275\n",
       "max      55.235757"
      ]
     },
     "execution_count": 8,
     "metadata": {},
     "output_type": "execute_result"
    }
   ],
   "source": [
    "ethdaily_returns.describe()"
   ]
  },
  {
   "cell_type": "markdown",
   "metadata": {},
   "source": [
    "The highest return during the time period beginning August 7, 2015 through March 31, 2020 was 55.235757 on August 11, 2015. The lowest return during this period was -53.003934 on August 8, 2015. During the opening weekend of August 8, prices for ethereum fell significantly from roughly $2.50 to $0.75 due to the Ether Dump, where traders were desperately looking to sell off ETH. Days later, the returns for ethereum reached its peak, which can be explained by the fact that IBM and Samsung are both invested into ether for the long run causing prices to stabilize."
   ]
  },
  {
   "cell_type": "markdown",
   "metadata": {},
   "source": [
    "# Part D"
   ]
  },
  {
   "cell_type": "code",
   "execution_count": 9,
   "metadata": {},
   "outputs": [
    {
     "data": {
      "text/html": [
       "<div>\n",
       "<style scoped>\n",
       "    .dataframe tbody tr th:only-of-type {\n",
       "        vertical-align: middle;\n",
       "    }\n",
       "\n",
       "    .dataframe tbody tr th {\n",
       "        vertical-align: top;\n",
       "    }\n",
       "\n",
       "    .dataframe thead th {\n",
       "        text-align: right;\n",
       "    }\n",
       "</style>\n",
       "<table border=\"1\" class=\"dataframe\">\n",
       "  <thead>\n",
       "    <tr style=\"text-align: right;\">\n",
       "      <th></th>\n",
       "      <th>pct_change</th>\n",
       "    </tr>\n",
       "    <tr>\n",
       "      <th>snapped_at</th>\n",
       "      <th></th>\n",
       "    </tr>\n",
       "  </thead>\n",
       "  <tbody>\n",
       "    <tr>\n",
       "      <td>2015-08-07 00:00:00+00:00</td>\n",
       "      <td>NaN</td>\n",
       "    </tr>\n",
       "    <tr>\n",
       "      <td>2015-08-08 00:00:00+00:00</td>\n",
       "      <td>-53.003934</td>\n",
       "    </tr>\n",
       "    <tr>\n",
       "      <td>2015-08-10 00:00:00+00:00</td>\n",
       "      <td>-48.330963</td>\n",
       "    </tr>\n",
       "    <tr>\n",
       "      <td>2015-08-11 00:00:00+00:00</td>\n",
       "      <td>55.235757</td>\n",
       "    </tr>\n",
       "    <tr>\n",
       "      <td>2015-08-12 00:00:00+00:00</td>\n",
       "      <td>17.728878</td>\n",
       "    </tr>\n",
       "    <tr>\n",
       "      <td>...</td>\n",
       "      <td>...</td>\n",
       "    </tr>\n",
       "    <tr>\n",
       "      <td>2020-04-26 00:00:00+00:00</td>\n",
       "      <td>3.614149</td>\n",
       "    </tr>\n",
       "    <tr>\n",
       "      <td>2020-04-27 00:00:00+00:00</td>\n",
       "      <td>1.605069</td>\n",
       "    </tr>\n",
       "    <tr>\n",
       "      <td>2020-04-28 00:00:00+00:00</td>\n",
       "      <td>-0.389028</td>\n",
       "    </tr>\n",
       "    <tr>\n",
       "      <td>2020-04-29 00:00:00+00:00</td>\n",
       "      <td>0.352284</td>\n",
       "    </tr>\n",
       "    <tr>\n",
       "      <td>2020-04-30 00:00:00+00:00</td>\n",
       "      <td>9.329444</td>\n",
       "    </tr>\n",
       "  </tbody>\n",
       "</table>\n",
       "<p>1728 rows × 1 columns</p>\n",
       "</div>"
      ],
      "text/plain": [
       "                           pct_change\n",
       "snapped_at                           \n",
       "2015-08-07 00:00:00+00:00         NaN\n",
       "2015-08-08 00:00:00+00:00  -53.003934\n",
       "2015-08-10 00:00:00+00:00  -48.330963\n",
       "2015-08-11 00:00:00+00:00   55.235757\n",
       "2015-08-12 00:00:00+00:00   17.728878\n",
       "...                               ...\n",
       "2020-04-26 00:00:00+00:00    3.614149\n",
       "2020-04-27 00:00:00+00:00    1.605069\n",
       "2020-04-28 00:00:00+00:00   -0.389028\n",
       "2020-04-29 00:00:00+00:00    0.352284\n",
       "2020-04-30 00:00:00+00:00    9.329444\n",
       "\n",
       "[1728 rows x 1 columns]"
      ]
     },
     "execution_count": 9,
     "metadata": {},
     "output_type": "execute_result"
    }
   ],
   "source": [
    "ethdaily_returns = eth_price.pct_change()*100\n",
    "ethdaily_returns.columns = ['pct_change']\n",
    "ethdaily_returns"
   ]
  },
  {
   "cell_type": "code",
   "execution_count": 20,
   "metadata": {},
   "outputs": [
    {
     "data": {
      "text/html": [
       "<div>\n",
       "<style scoped>\n",
       "    .dataframe tbody tr th:only-of-type {\n",
       "        vertical-align: middle;\n",
       "    }\n",
       "\n",
       "    .dataframe tbody tr th {\n",
       "        vertical-align: top;\n",
       "    }\n",
       "\n",
       "    .dataframe thead th {\n",
       "        text-align: right;\n",
       "    }\n",
       "</style>\n",
       "<table border=\"1\" class=\"dataframe\">\n",
       "  <thead>\n",
       "    <tr style=\"text-align: right;\">\n",
       "      <th></th>\n",
       "      <th>pct_change</th>\n",
       "    </tr>\n",
       "    <tr>\n",
       "      <th>snapped_at</th>\n",
       "      <th></th>\n",
       "    </tr>\n",
       "  </thead>\n",
       "  <tbody>\n",
       "    <tr>\n",
       "      <td>2015-08-07 00:00:00+00:00</td>\n",
       "      <td>NaN</td>\n",
       "    </tr>\n",
       "    <tr>\n",
       "      <td>2015-08-08 00:00:00+00:00</td>\n",
       "      <td>-53.003934</td>\n",
       "    </tr>\n",
       "    <tr>\n",
       "      <td>2015-08-10 00:00:00+00:00</td>\n",
       "      <td>-48.330963</td>\n",
       "    </tr>\n",
       "    <tr>\n",
       "      <td>2015-08-11 00:00:00+00:00</td>\n",
       "      <td>55.235757</td>\n",
       "    </tr>\n",
       "    <tr>\n",
       "      <td>2015-08-12 00:00:00+00:00</td>\n",
       "      <td>17.728878</td>\n",
       "    </tr>\n",
       "  </tbody>\n",
       "</table>\n",
       "</div>"
      ],
      "text/plain": [
       "                           pct_change\n",
       "snapped_at                           \n",
       "2015-08-07 00:00:00+00:00         NaN\n",
       "2015-08-08 00:00:00+00:00  -53.003934\n",
       "2015-08-10 00:00:00+00:00  -48.330963\n",
       "2015-08-11 00:00:00+00:00   55.235757\n",
       "2015-08-12 00:00:00+00:00   17.728878"
      ]
     },
     "execution_count": 20,
     "metadata": {},
     "output_type": "execute_result"
    }
   ],
   "source": [
    "ethdaily_returns.head()"
   ]
  },
  {
   "cell_type": "code",
   "execution_count": 10,
   "metadata": {},
   "outputs": [],
   "source": [
    "btc_price = pd.read_csv(\"bitcoin_price.csv\")"
   ]
  },
  {
   "cell_type": "code",
   "execution_count": 16,
   "metadata": {},
   "outputs": [
    {
     "data": {
      "text/html": [
       "<div>\n",
       "<style scoped>\n",
       "    .dataframe tbody tr th:only-of-type {\n",
       "        vertical-align: middle;\n",
       "    }\n",
       "\n",
       "    .dataframe tbody tr th {\n",
       "        vertical-align: top;\n",
       "    }\n",
       "\n",
       "    .dataframe thead th {\n",
       "        text-align: right;\n",
       "    }\n",
       "</style>\n",
       "<table border=\"1\" class=\"dataframe\">\n",
       "  <thead>\n",
       "    <tr style=\"text-align: right;\">\n",
       "      <th></th>\n",
       "      <th>Closing Price (USD)</th>\n",
       "    </tr>\n",
       "    <tr>\n",
       "      <th>Date</th>\n",
       "      <th></th>\n",
       "    </tr>\n",
       "  </thead>\n",
       "  <tbody>\n",
       "    <tr>\n",
       "      <td>2014-01-01</td>\n",
       "      <td>769.09849</td>\n",
       "    </tr>\n",
       "    <tr>\n",
       "      <td>2014-01-02</td>\n",
       "      <td>804.02719</td>\n",
       "    </tr>\n",
       "    <tr>\n",
       "      <td>2014-01-03</td>\n",
       "      <td>813.31748</td>\n",
       "    </tr>\n",
       "    <tr>\n",
       "      <td>2014-01-04</td>\n",
       "      <td>871.11583</td>\n",
       "    </tr>\n",
       "    <tr>\n",
       "      <td>2014-01-05</td>\n",
       "      <td>970.65083</td>\n",
       "    </tr>\n",
       "  </tbody>\n",
       "</table>\n",
       "</div>"
      ],
      "text/plain": [
       "            Closing Price (USD)\n",
       "Date                           \n",
       "2014-01-01            769.09849\n",
       "2014-01-02            804.02719\n",
       "2014-01-03            813.31748\n",
       "2014-01-04            871.11583\n",
       "2014-01-05            970.65083"
      ]
     },
     "execution_count": 16,
     "metadata": {},
     "output_type": "execute_result"
    }
   ],
   "source": [
    "btc_price['Date'] = pd.to_datetime(btc_price['Date'])\n",
    "btc_price = btc_price.set_index('Date')\n",
    "btc_price.head()"
   ]
  },
  {
   "cell_type": "code",
   "execution_count": 17,
   "metadata": {},
   "outputs": [
    {
     "data": {
      "text/html": [
       "<div>\n",
       "<style scoped>\n",
       "    .dataframe tbody tr th:only-of-type {\n",
       "        vertical-align: middle;\n",
       "    }\n",
       "\n",
       "    .dataframe tbody tr th {\n",
       "        vertical-align: top;\n",
       "    }\n",
       "\n",
       "    .dataframe thead th {\n",
       "        text-align: right;\n",
       "    }\n",
       "</style>\n",
       "<table border=\"1\" class=\"dataframe\">\n",
       "  <thead>\n",
       "    <tr style=\"text-align: right;\">\n",
       "      <th></th>\n",
       "      <th>pct_change</th>\n",
       "    </tr>\n",
       "    <tr>\n",
       "      <th>Date</th>\n",
       "      <th></th>\n",
       "    </tr>\n",
       "  </thead>\n",
       "  <tbody>\n",
       "    <tr>\n",
       "      <td>2014-01-01</td>\n",
       "      <td>NaN</td>\n",
       "    </tr>\n",
       "    <tr>\n",
       "      <td>2014-01-02</td>\n",
       "      <td>4.541512</td>\n",
       "    </tr>\n",
       "    <tr>\n",
       "      <td>2014-01-03</td>\n",
       "      <td>1.155470</td>\n",
       "    </tr>\n",
       "    <tr>\n",
       "      <td>2014-01-04</td>\n",
       "      <td>7.106493</td>\n",
       "    </tr>\n",
       "    <tr>\n",
       "      <td>2014-01-05</td>\n",
       "      <td>11.426150</td>\n",
       "    </tr>\n",
       "    <tr>\n",
       "      <td>...</td>\n",
       "      <td>...</td>\n",
       "    </tr>\n",
       "    <tr>\n",
       "      <td>2020-03-27</td>\n",
       "      <td>-0.575993</td>\n",
       "    </tr>\n",
       "    <tr>\n",
       "      <td>2020-03-28</td>\n",
       "      <td>-6.782981</td>\n",
       "    </tr>\n",
       "    <tr>\n",
       "      <td>2020-03-29</td>\n",
       "      <td>-4.928150</td>\n",
       "    </tr>\n",
       "    <tr>\n",
       "      <td>2020-03-30</td>\n",
       "      <td>9.476582</td>\n",
       "    </tr>\n",
       "    <tr>\n",
       "      <td>2020-03-31</td>\n",
       "      <td>-0.575564</td>\n",
       "    </tr>\n",
       "  </tbody>\n",
       "</table>\n",
       "<p>2272 rows × 1 columns</p>\n",
       "</div>"
      ],
      "text/plain": [
       "            pct_change\n",
       "Date                  \n",
       "2014-01-01         NaN\n",
       "2014-01-02    4.541512\n",
       "2014-01-03    1.155470\n",
       "2014-01-04    7.106493\n",
       "2014-01-05   11.426150\n",
       "...                ...\n",
       "2020-03-27   -0.575993\n",
       "2020-03-28   -6.782981\n",
       "2020-03-29   -4.928150\n",
       "2020-03-30    9.476582\n",
       "2020-03-31   -0.575564\n",
       "\n",
       "[2272 rows x 1 columns]"
      ]
     },
     "execution_count": 17,
     "metadata": {},
     "output_type": "execute_result"
    }
   ],
   "source": [
    "btcdaily_returns = btc_price.pct_change()*100\n",
    "btcdaily_returns.columns = ['pct_change']\n",
    "btcdaily_returns"
   ]
  },
  {
   "cell_type": "code",
   "execution_count": 21,
   "metadata": {},
   "outputs": [
    {
     "data": {
      "text/html": [
       "<div>\n",
       "<style scoped>\n",
       "    .dataframe tbody tr th:only-of-type {\n",
       "        vertical-align: middle;\n",
       "    }\n",
       "\n",
       "    .dataframe tbody tr th {\n",
       "        vertical-align: top;\n",
       "    }\n",
       "\n",
       "    .dataframe thead th {\n",
       "        text-align: right;\n",
       "    }\n",
       "</style>\n",
       "<table border=\"1\" class=\"dataframe\">\n",
       "  <thead>\n",
       "    <tr style=\"text-align: right;\">\n",
       "      <th></th>\n",
       "      <th>pct_change</th>\n",
       "    </tr>\n",
       "    <tr>\n",
       "      <th>Date</th>\n",
       "      <th></th>\n",
       "    </tr>\n",
       "  </thead>\n",
       "  <tbody>\n",
       "    <tr>\n",
       "      <td>2014-01-01</td>\n",
       "      <td>NaN</td>\n",
       "    </tr>\n",
       "    <tr>\n",
       "      <td>2014-01-02</td>\n",
       "      <td>4.541512</td>\n",
       "    </tr>\n",
       "    <tr>\n",
       "      <td>2014-01-03</td>\n",
       "      <td>1.155470</td>\n",
       "    </tr>\n",
       "    <tr>\n",
       "      <td>2014-01-04</td>\n",
       "      <td>7.106493</td>\n",
       "    </tr>\n",
       "    <tr>\n",
       "      <td>2014-01-05</td>\n",
       "      <td>11.426150</td>\n",
       "    </tr>\n",
       "  </tbody>\n",
       "</table>\n",
       "</div>"
      ],
      "text/plain": [
       "            pct_change\n",
       "Date                  \n",
       "2014-01-01         NaN\n",
       "2014-01-02    4.541512\n",
       "2014-01-03    1.155470\n",
       "2014-01-04    7.106493\n",
       "2014-01-05   11.426150"
      ]
     },
     "execution_count": 21,
     "metadata": {},
     "output_type": "execute_result"
    }
   ],
   "source": [
    "btcdaily_returns.head()"
   ]
  },
  {
   "cell_type": "code",
   "execution_count": 23,
   "metadata": {},
   "outputs": [
    {
     "ename": "TypeError",
     "evalue": "Cannot join tz-naive with tz-aware DatetimeIndex",
     "output_type": "error",
     "traceback": [
      "\u001b[1;31m---------------------------------------------------------------------------\u001b[0m",
      "\u001b[1;31mTypeError\u001b[0m                                 Traceback (most recent call last)",
      "\u001b[1;32m<ipython-input-23-373c89545217>\u001b[0m in \u001b[0;36m<module>\u001b[1;34m\u001b[0m\n\u001b[0;32m      4\u001b[0m \u001b[0mb\u001b[0m \u001b[1;33m=\u001b[0m \u001b[0mB\u001b[0m\u001b[1;33m.\u001b[0m\u001b[0mrename\u001b[0m\u001b[1;33m(\u001b[0m\u001b[0mcolumns\u001b[0m \u001b[1;33m=\u001b[0m \u001b[1;33m{\u001b[0m\u001b[1;34m'pct_change'\u001b[0m\u001b[1;33m:\u001b[0m \u001b[1;34m'Return1'\u001b[0m\u001b[1;33m}\u001b[0m\u001b[1;33m)\u001b[0m\u001b[1;33m\u001b[0m\u001b[1;33m\u001b[0m\u001b[0m\n\u001b[0;32m      5\u001b[0m \u001b[1;31m#b is for bitcoin\u001b[0m\u001b[1;33m\u001b[0m\u001b[1;33m\u001b[0m\u001b[1;33m\u001b[0m\u001b[0m\n\u001b[1;32m----> 6\u001b[1;33m \u001b[0mmerged\u001b[0m \u001b[1;33m=\u001b[0m \u001b[0mpd\u001b[0m\u001b[1;33m.\u001b[0m\u001b[0mmerge\u001b[0m\u001b[1;33m(\u001b[0m\u001b[0mb\u001b[0m\u001b[1;33m,\u001b[0m\u001b[0ma\u001b[0m\u001b[1;33m,\u001b[0m \u001b[0mright_index\u001b[0m\u001b[1;33m=\u001b[0m\u001b[1;32mTrue\u001b[0m\u001b[1;33m,\u001b[0m \u001b[0mleft_index\u001b[0m\u001b[1;33m=\u001b[0m\u001b[1;32mTrue\u001b[0m\u001b[1;33m)\u001b[0m\u001b[1;33m\u001b[0m\u001b[1;33m\u001b[0m\u001b[0m\n\u001b[0m\u001b[0;32m      7\u001b[0m \u001b[0mmerged\u001b[0m\u001b[1;33m\u001b[0m\u001b[1;33m\u001b[0m\u001b[0m\n",
      "\u001b[1;32m~\\Anaconda3\\lib\\site-packages\\pandas\\core\\reshape\\merge.py\u001b[0m in \u001b[0;36mmerge\u001b[1;34m(left, right, how, on, left_on, right_on, left_index, right_index, sort, suffixes, copy, indicator, validate)\u001b[0m\n\u001b[0;32m     81\u001b[0m         \u001b[0mvalidate\u001b[0m\u001b[1;33m=\u001b[0m\u001b[0mvalidate\u001b[0m\u001b[1;33m,\u001b[0m\u001b[1;33m\u001b[0m\u001b[1;33m\u001b[0m\u001b[0m\n\u001b[0;32m     82\u001b[0m     )\n\u001b[1;32m---> 83\u001b[1;33m     \u001b[1;32mreturn\u001b[0m \u001b[0mop\u001b[0m\u001b[1;33m.\u001b[0m\u001b[0mget_result\u001b[0m\u001b[1;33m(\u001b[0m\u001b[1;33m)\u001b[0m\u001b[1;33m\u001b[0m\u001b[1;33m\u001b[0m\u001b[0m\n\u001b[0m\u001b[0;32m     84\u001b[0m \u001b[1;33m\u001b[0m\u001b[0m\n\u001b[0;32m     85\u001b[0m \u001b[1;33m\u001b[0m\u001b[0m\n",
      "\u001b[1;32m~\\Anaconda3\\lib\\site-packages\\pandas\\core\\reshape\\merge.py\u001b[0m in \u001b[0;36mget_result\u001b[1;34m(self)\u001b[0m\n\u001b[0;32m    640\u001b[0m             \u001b[0mself\u001b[0m\u001b[1;33m.\u001b[0m\u001b[0mleft\u001b[0m\u001b[1;33m,\u001b[0m \u001b[0mself\u001b[0m\u001b[1;33m.\u001b[0m\u001b[0mright\u001b[0m \u001b[1;33m=\u001b[0m \u001b[0mself\u001b[0m\u001b[1;33m.\u001b[0m\u001b[0m_indicator_pre_merge\u001b[0m\u001b[1;33m(\u001b[0m\u001b[0mself\u001b[0m\u001b[1;33m.\u001b[0m\u001b[0mleft\u001b[0m\u001b[1;33m,\u001b[0m \u001b[0mself\u001b[0m\u001b[1;33m.\u001b[0m\u001b[0mright\u001b[0m\u001b[1;33m)\u001b[0m\u001b[1;33m\u001b[0m\u001b[1;33m\u001b[0m\u001b[0m\n\u001b[0;32m    641\u001b[0m \u001b[1;33m\u001b[0m\u001b[0m\n\u001b[1;32m--> 642\u001b[1;33m         \u001b[0mjoin_index\u001b[0m\u001b[1;33m,\u001b[0m \u001b[0mleft_indexer\u001b[0m\u001b[1;33m,\u001b[0m \u001b[0mright_indexer\u001b[0m \u001b[1;33m=\u001b[0m \u001b[0mself\u001b[0m\u001b[1;33m.\u001b[0m\u001b[0m_get_join_info\u001b[0m\u001b[1;33m(\u001b[0m\u001b[1;33m)\u001b[0m\u001b[1;33m\u001b[0m\u001b[1;33m\u001b[0m\u001b[0m\n\u001b[0m\u001b[0;32m    643\u001b[0m \u001b[1;33m\u001b[0m\u001b[0m\n\u001b[0;32m    644\u001b[0m         \u001b[0mldata\u001b[0m\u001b[1;33m,\u001b[0m \u001b[0mrdata\u001b[0m \u001b[1;33m=\u001b[0m \u001b[0mself\u001b[0m\u001b[1;33m.\u001b[0m\u001b[0mleft\u001b[0m\u001b[1;33m.\u001b[0m\u001b[0m_data\u001b[0m\u001b[1;33m,\u001b[0m \u001b[0mself\u001b[0m\u001b[1;33m.\u001b[0m\u001b[0mright\u001b[0m\u001b[1;33m.\u001b[0m\u001b[0m_data\u001b[0m\u001b[1;33m\u001b[0m\u001b[1;33m\u001b[0m\u001b[0m\n",
      "\u001b[1;32m~\\Anaconda3\\lib\\site-packages\\pandas\\core\\reshape\\merge.py\u001b[0m in \u001b[0;36m_get_join_info\u001b[1;34m(self)\u001b[0m\n\u001b[0;32m    845\u001b[0m         \u001b[1;32mif\u001b[0m \u001b[0mself\u001b[0m\u001b[1;33m.\u001b[0m\u001b[0mleft_index\u001b[0m \u001b[1;32mand\u001b[0m \u001b[0mself\u001b[0m\u001b[1;33m.\u001b[0m\u001b[0mright_index\u001b[0m \u001b[1;32mand\u001b[0m \u001b[0mself\u001b[0m\u001b[1;33m.\u001b[0m\u001b[0mhow\u001b[0m \u001b[1;33m!=\u001b[0m \u001b[1;34m\"asof\"\u001b[0m\u001b[1;33m:\u001b[0m\u001b[1;33m\u001b[0m\u001b[1;33m\u001b[0m\u001b[0m\n\u001b[0;32m    846\u001b[0m             join_index, left_indexer, right_indexer = left_ax.join(\n\u001b[1;32m--> 847\u001b[1;33m                 \u001b[0mright_ax\u001b[0m\u001b[1;33m,\u001b[0m \u001b[0mhow\u001b[0m\u001b[1;33m=\u001b[0m\u001b[0mself\u001b[0m\u001b[1;33m.\u001b[0m\u001b[0mhow\u001b[0m\u001b[1;33m,\u001b[0m \u001b[0mreturn_indexers\u001b[0m\u001b[1;33m=\u001b[0m\u001b[1;32mTrue\u001b[0m\u001b[1;33m,\u001b[0m \u001b[0msort\u001b[0m\u001b[1;33m=\u001b[0m\u001b[0mself\u001b[0m\u001b[1;33m.\u001b[0m\u001b[0msort\u001b[0m\u001b[1;33m\u001b[0m\u001b[1;33m\u001b[0m\u001b[0m\n\u001b[0m\u001b[0;32m    848\u001b[0m             )\n\u001b[0;32m    849\u001b[0m         \u001b[1;32melif\u001b[0m \u001b[0mself\u001b[0m\u001b[1;33m.\u001b[0m\u001b[0mright_index\u001b[0m \u001b[1;32mand\u001b[0m \u001b[0mself\u001b[0m\u001b[1;33m.\u001b[0m\u001b[0mhow\u001b[0m \u001b[1;33m==\u001b[0m \u001b[1;34m\"left\"\u001b[0m\u001b[1;33m:\u001b[0m\u001b[1;33m\u001b[0m\u001b[1;33m\u001b[0m\u001b[0m\n",
      "\u001b[1;32m~\\Anaconda3\\lib\\site-packages\\pandas\\core\\indexes\\datetimes.py\u001b[0m in \u001b[0;36mjoin\u001b[1;34m(self, other, how, level, return_indexers, sort)\u001b[0m\n\u001b[0;32m    790\u001b[0m                 \u001b[1;32mpass\u001b[0m\u001b[1;33m\u001b[0m\u001b[1;33m\u001b[0m\u001b[0m\n\u001b[0;32m    791\u001b[0m \u001b[1;33m\u001b[0m\u001b[0m\n\u001b[1;32m--> 792\u001b[1;33m         \u001b[0mthis\u001b[0m\u001b[1;33m,\u001b[0m \u001b[0mother\u001b[0m \u001b[1;33m=\u001b[0m \u001b[0mself\u001b[0m\u001b[1;33m.\u001b[0m\u001b[0m_maybe_utc_convert\u001b[0m\u001b[1;33m(\u001b[0m\u001b[0mother\u001b[0m\u001b[1;33m)\u001b[0m\u001b[1;33m\u001b[0m\u001b[1;33m\u001b[0m\u001b[0m\n\u001b[0m\u001b[0;32m    793\u001b[0m         return Index.join(\n\u001b[0;32m    794\u001b[0m             \u001b[0mthis\u001b[0m\u001b[1;33m,\u001b[0m\u001b[1;33m\u001b[0m\u001b[1;33m\u001b[0m\u001b[0m\n",
      "\u001b[1;32m~\\Anaconda3\\lib\\site-packages\\pandas\\core\\indexes\\datetimes.py\u001b[0m in \u001b[0;36m_maybe_utc_convert\u001b[1;34m(self, other)\u001b[0m\n\u001b[0;32m    809\u001b[0m                     )\n\u001b[0;32m    810\u001b[0m             \u001b[1;32melif\u001b[0m \u001b[0mother\u001b[0m\u001b[1;33m.\u001b[0m\u001b[0mtz\u001b[0m \u001b[1;32mis\u001b[0m \u001b[1;32mnot\u001b[0m \u001b[1;32mNone\u001b[0m\u001b[1;33m:\u001b[0m\u001b[1;33m\u001b[0m\u001b[1;33m\u001b[0m\u001b[0m\n\u001b[1;32m--> 811\u001b[1;33m                 \u001b[1;32mraise\u001b[0m \u001b[0mTypeError\u001b[0m\u001b[1;33m(\u001b[0m\u001b[1;34m\"Cannot join tz-naive with tz-aware \"\u001b[0m \u001b[1;34m\"DatetimeIndex\"\u001b[0m\u001b[1;33m)\u001b[0m\u001b[1;33m\u001b[0m\u001b[1;33m\u001b[0m\u001b[0m\n\u001b[0m\u001b[0;32m    812\u001b[0m \u001b[1;33m\u001b[0m\u001b[0m\n\u001b[0;32m    813\u001b[0m             \u001b[1;32mif\u001b[0m \u001b[1;32mnot\u001b[0m \u001b[0mtimezones\u001b[0m\u001b[1;33m.\u001b[0m\u001b[0mtz_compare\u001b[0m\u001b[1;33m(\u001b[0m\u001b[0mself\u001b[0m\u001b[1;33m.\u001b[0m\u001b[0mtz\u001b[0m\u001b[1;33m,\u001b[0m \u001b[0mother\u001b[0m\u001b[1;33m.\u001b[0m\u001b[0mtz\u001b[0m\u001b[1;33m)\u001b[0m\u001b[1;33m:\u001b[0m\u001b[1;33m\u001b[0m\u001b[1;33m\u001b[0m\u001b[0m\n",
      "\u001b[1;31mTypeError\u001b[0m: Cannot join tz-naive with tz-aware DatetimeIndex"
     ]
    }
   ],
   "source": [
    "A = ethdaily_returns.head()\n",
    "a = A.rename(columns = {'pct_change': 'Return2'})\n",
    "B = btcdaily_returns.head()\n",
    "b = B.rename(columns = {'pct_change': 'Return1'})\n",
    "#b is for bitcoin\n",
    "merged = pd.merge(b,a, right_index=True, left_index=True)\n",
    "merged"
   ]
  },
  {
   "cell_type": "code",
   "execution_count": null,
   "metadata": {},
   "outputs": [],
   "source": []
  }
 ],
 "metadata": {
  "kernelspec": {
   "display_name": "Python 3",
   "language": "python",
   "name": "python3"
  },
  "language_info": {
   "codemirror_mode": {
    "name": "ipython",
    "version": 3
   },
   "file_extension": ".py",
   "mimetype": "text/x-python",
   "name": "python",
   "nbconvert_exporter": "python",
   "pygments_lexer": "ipython3",
   "version": "3.7.4"
  }
 },
 "nbformat": 4,
 "nbformat_minor": 4
}
